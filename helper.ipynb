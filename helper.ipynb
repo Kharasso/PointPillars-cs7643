{
 "cells": [
  {
   "cell_type": "code",
   "execution_count": 2,
   "metadata": {},
   "outputs": [
    {
     "name": "stdout",
     "output_type": "stream",
     "text": [
      "Jupyter environment detected. Enabling Open3D WebVisualizer.\n",
      "[Open3D INFO] WebRTC GUI backend enabled.\n",
      "[Open3D INFO] WebRTCWindowSystem: HTTP handshake server disabled.\n"
     ]
    }
   ],
   "source": [
    "from dataset import Kitti, get_dataloader\n",
    "import pandas as pd\n",
    "import numpy as np"
   ]
  },
  {
   "cell_type": "code",
   "execution_count": 3,
   "metadata": {},
   "outputs": [],
   "source": [
    "import os\n",
    "import subprocess\n",
    "\n",
    "from setuptools import find_packages, setup\n",
    "from torch.utils.cpp_extension import BuildExtension, CUDAExtension\n",
    "\n",
    "def make_cuda_ext(name, module, sources):\n",
    "    cuda_ext = CUDAExtension(\n",
    "        name='%s.%s' % (module, name),\n",
    "        sources=[os.path.join(*module.split('.'), src) for src in sources]\n",
    "    )\n",
    "    return cuda_ext"
   ]
  },
  {
   "cell_type": "code",
   "execution_count": 4,
   "metadata": {},
   "outputs": [
    {
     "data": {
      "text/plain": [
       "<setuptools.extension.Extension('pcdet.ops.roiaware_pool3d.roiaware_pool3d_cuda') at 0x7fb2780ae8e0>"
      ]
     },
     "execution_count": 4,
     "metadata": {},
     "output_type": "execute_result"
    }
   ],
   "source": [
    "make_cuda_ext(\n",
    "                name='roiaware_pool3d_cuda',\n",
    "                module='pcdet.ops.roiaware_pool3d',\n",
    "                sources=[\n",
    "                    'src/roiaware_pool3d.cpp',\n",
    "                    'src/roiaware_pool3d_kernel.cu',\n",
    "                ]\n",
    "            )"
   ]
  },
  {
   "cell_type": "code",
   "execution_count": 54,
   "metadata": {},
   "outputs": [],
   "source": [
    "kitti_data = Kitti(data_root='data/kitti', \n",
    "                    split='train')\n",
    "example = kitti_data.__getitem__(9)\n",
    "example['pts'].shape\n",
    "box = example['gt_bboxes_3d'][0]"
   ]
  },
  {
   "cell_type": "code",
   "execution_count": null,
   "metadata": {},
   "outputs": [],
   "source": [
    "def restore_corners():\n",
    "    pass"
   ]
  },
  {
   "cell_type": "code",
   "execution_count": 20,
   "metadata": {},
   "outputs": [
    {
     "data": {
      "text/plain": [
       "array([[ 41.019917  , -15.135154  ,  -1.2213999 ,   1.4423676 ,\n",
       "          4.3271027 ,   1.286436  ,  -1.4590387 ],\n",
       "       [ 19.59957   , -19.58695   ,  -1.5335454 ,   2.5338888 ,\n",
       "         16.363075  ,   3.917782  ,   1.8608462 ],\n",
       "       [ 31.678396  ,  -9.892149  ,  -1.336067  ,   1.5203333 ,\n",
       "          4.054222  ,   1.3838931 ,  -1.4863529 ],\n",
       "       [  4.4121037 ,  -6.1468782 ,  -1.4431155 ,   1.5495706 ,\n",
       "          3.35253   ,   1.4131304 ,  -1.3364711 ],\n",
       "       [ 38.27281   , -25.586308  ,  -1.0381042 ,   1.3156731 ,\n",
       "          3.1478696 ,   1.4033847 ,   1.9633679 ],\n",
       "       [ 18.263111  ,  -5.094483  ,  -1.4047003 ,   1.6177906 ,\n",
       "          3.9762564 ,   1.3644017 ,  -1.1407828 ],\n",
       "       [ 27.382992  , -10.002426  ,  -1.1761512 ,   1.5495706 ,\n",
       "          3.6936305 ,   1.461859  ,  -1.1037278 ],\n",
       "       [ 46.25018   ,   1.2323573 ,  -0.79460055,   1.6567736 ,\n",
       "          3.810579  ,   1.5982991 ,  -1.1020136 ],\n",
       "       [ 32.95406   , -12.903475  ,  -1.3473883 ,   1.5008419 ,\n",
       "          3.7618504 ,   1.354656  ,  -1.0376229 ],\n",
       "       [ 12.161648  ,  -2.7492292 ,  -1.3758993 ,   1.5788077 ,\n",
       "          4.0249853 ,   1.6957564 ,  -1.1573339 ],\n",
       "       [ 28.164888  , -19.29141   ,  -1.5578943 ,   1.676265  ,\n",
       "          4.0054936 ,   1.6567736 ,   2.0877676 ],\n",
       "       [ 30.21048   , -22.445503  ,  -1.208934  ,   1.5982991 ,\n",
       "          3.605919  ,   1.4813504 ,  -2.751893  ],\n",
       "       [ 17.255726  , -33.46646   ,  -1.357879  ,   1.5788077 ,\n",
       "          3.9762564 ,   1.461859  ,   1.994851  ],\n",
       "       [  8.135797  , -11.294205  ,  -1.5298321 ,   1.5008419 ,\n",
       "          2.4754145 ,   1.4521133 ,   2.0814273 ],\n",
       "       [ 33.26709   , -17.10836   ,  -1.6947162 ,   1.5105876 ,\n",
       "          3.810579  ,   1.3936388 ,  -1.2013798 ],\n",
       "       [ 14.671131  ,   0.2966286 ,  -1.1451905 ,   1.5593163 ,\n",
       "          3.030921  ,   1.569062  ,  -1.802619  ],\n",
       "       [ 11.158656  , -10.901005  ,  -1.1168541 ,   0.536015  ,\n",
       "          1.247453  ,   1.5885534 ,  -0.3700056 ],\n",
       "       [  6.7941155 ,  -3.6602764 ,  -1.3618174 ,   0.643218  ,\n",
       "          0.9843184 ,   1.7152479 ,  -1.2789907 ],\n",
       "       [ 28.342945  ,  -8.619117  ,  -0.55510837,   0.67245513,\n",
       "          0.6627094 ,   1.7737223 ,  -0.99314976],\n",
       "       [ 36.8746    , -15.868263  ,  -0.9170487 ,   0.5165235 ,\n",
       "          0.925844  ,   1.7347393 ,  -2.5958283 ],\n",
       "       [  6.586421  ,  -6.311774  ,  -1.8490809 ,   0.61398077,\n",
       "          1.1110128 ,   1.7737223 ,  -2.696568  ],\n",
       "       [ 11.050419  , -13.4144    ,  -1.2599578 ,   0.43855768,\n",
       "          1.033047  ,   1.6567736 ,  -1.1689625 ],\n",
       "       [  2.675611  ,  -4.102604  ,  -1.3547263 ,   0.60423505,\n",
       "          0.925844  ,   1.6275363 ,   1.989191  ],\n",
       "       [ 22.937845  , -13.153594  ,  -1.0643175 ,   0.7211838 ,\n",
       "          1.7639765 ,   2.036857  ,   2.4596467 ],\n",
       "       [ 18.011189  , -16.272766  ,  -2.2920306 ,   0.6334722 ,\n",
       "          1.744485  ,   1.7055022 ,  -0.05361557],\n",
       "       [  9.608771  ,  -8.0555    ,  -1.2852304 ,   0.49703205,\n",
       "          1.6665193 ,   1.7639765 ,   1.888122  ],\n",
       "       [ 15.34496   ,   3.0932372 ,  -1.1307133 ,   0.3313547 ,\n",
       "          1.6470279 ,   1.7542307 ,  -2.9262831 ],\n",
       "       [ 26.0339    ,  -0.5120923 ,  -2.275454  ,   0.3313547 ,\n",
       "          1.5398248 ,   1.5982991 ,  -0.9448767 ],\n",
       "       [ 19.501213  ,  -9.275452  ,  -1.4700198 ,   0.7211838 ,\n",
       "          1.7639765 ,   2.036857  ,   2.239975  ],\n",
       "       [ 10.2526245 , -10.642393  ,  -1.6850625 ,   0.5652521 ,\n",
       "          1.9004167 ,   1.783468  ,  -2.8414893 ],\n",
       "       [  8.96704   ,   1.3852049 ,  -1.5652905 ,   0.61398077,\n",
       "          1.7737223 ,   1.7249936 ,  -1.1868219 ]], dtype=float32)"
      ]
     },
     "execution_count": 20,
     "metadata": {},
     "output_type": "execute_result"
    }
   ],
   "source": [
    "example['gt_bboxes_3d']"
   ]
  },
  {
   "cell_type": "code",
   "execution_count": 24,
   "metadata": {},
   "outputs": [],
   "source": [
    "def bbox3d2corners(bboxes):\n",
    "    '''\n",
    "    bboxes: shape=(n, 7)\n",
    "    return: shape=(n, 8, 3)\n",
    "           ^ z   x            6 ------ 5\n",
    "           |   /             / |     / |\n",
    "           |  /             2 -|---- 1 |   \n",
    "    y      | /              |  |     | | \n",
    "    <------|o               | 7 -----| 4\n",
    "                            |/   o   |/    \n",
    "                            3 ------ 0 \n",
    "    x: front, y: left, z: top\n",
    "    '''\n",
    "    centers, dims, angles = bboxes[:, :3], bboxes[:, 3:6], bboxes[:, 6]\n",
    "\n",
    "    # 1.generate bbox corner coordinates, clockwise from minimal point\n",
    "    bboxes_corners = np.array([[-0.5, -0.5, 0], [-0.5, -0.5, 1.0], [-0.5, 0.5, 1.0], [-0.5, 0.5, 0.0],\n",
    "                               [0.5, -0.5, 0], [0.5, -0.5, 1.0], [0.5, 0.5, 1.0], [0.5, 0.5, 0.0]], \n",
    "                               dtype=np.float32)\n",
    "    bboxes_corners = bboxes_corners[None, :, :] * dims[:, None, :] # (1, 8, 3) * (n, 1, 3) -> (n, 8, 3)\n",
    "\n",
    "    # 2. rotate around z axis\n",
    "    rot_sin, rot_cos = np.sin(angles), np.cos(angles)\n",
    "    # in fact, -angle\n",
    "    rot_mat = np.array([[rot_cos, rot_sin, np.zeros_like(rot_cos)],\n",
    "                        [-rot_sin, rot_cos, np.zeros_like(rot_cos)],\n",
    "                        [np.zeros_like(rot_cos), np.zeros_like(rot_cos), np.ones_like(rot_cos)]], \n",
    "                        dtype=np.float32) # (3, 3, n)\n",
    "    rot_mat = np.transpose(rot_mat, (2, 1, 0)) # (n, 3, 3)\n",
    "    bboxes_corners = bboxes_corners @ rot_mat # (n, 8, 3)\n",
    "\n",
    "    # 3. translate to centers\n",
    "    bboxes_corners += centers[:, None, :]\n",
    "    return bboxes_corners"
   ]
  },
  {
   "cell_type": "code",
   "execution_count": 25,
   "metadata": {},
   "outputs": [
    {
     "data": {
      "text/plain": [
       "(31, 8, 3)"
      ]
     },
     "execution_count": 25,
     "metadata": {},
     "output_type": "execute_result"
    }
   ],
   "source": [
    "bbox3d2corners(example['gt_bboxes_3d']).shape"
   ]
  },
  {
   "cell_type": "code",
   "execution_count": null,
   "metadata": {},
   "outputs": [],
   "source": [
    "def remove_pts_in_bboxes(points, bboxes, rm=True):\n",
    "    '''\n",
    "    points: shape=(N, 3)\n",
    "    bboxes: shape=(n, 7)\n",
    "    return: shape=(N, n), bool\n",
    "    '''\n",
    "    # 1. get 6 groups of rectangle vertexs\n",
    "    bboxes_corners = bbox3d2corners(bboxes) # (n, 8, 3)\n",
    "    bbox_group_rectangle_vertexs = group_rectangle_vertexs(bboxes_corners) # (n, 6, 4, 3)\n",
    "\n",
    "    # 2. calculate plane equation: ax + by + cd + d = 0\n",
    "    group_plane_equation_params = group_plane_equation(bbox_group_rectangle_vertexs)\n",
    "\n",
    "    # 3. Judge each point inside or outside the bboxes\n",
    "    # if point (x0, y0, z0) lies on the direction of normal vector(a, b, c), then ax0 + by0 + cz0 + d > 0.\n",
    "    masks = points_in_bboxes(points, group_plane_equation_params) # (N, n)\n",
    "\n",
    "    if not rm:\n",
    "        return masks\n",
    "        \n",
    "    # 4. remove point insider the bboxes\n",
    "    masks = np.any(masks, axis=-1)\n",
    "\n",
    "    return points[~masks]"
   ]
  },
  {
   "cell_type": "code",
   "execution_count": 8,
   "metadata": {},
   "outputs": [],
   "source": [
    "from pcdet.utils.box_utils import boxes_to_corners_3d, remove_points_in_boxes3d"
   ]
  },
  {
   "cell_type": "code",
   "execution_count": 10,
   "metadata": {},
   "outputs": [
    {
     "data": {
      "text/plain": [
       "9392"
      ]
     },
     "execution_count": 10,
     "metadata": {},
     "output_type": "execute_result"
    }
   ],
   "source": [
    "len(remove_points_in_boxes3d(example['pts'], example['gt_bboxes_3d']))"
   ]
  },
  {
   "cell_type": "code",
   "execution_count": 30,
   "metadata": {},
   "outputs": [],
   "source": [
    "\n",
    "corner_pts = boxes_to_corners_3d(example['gt_bboxes_3d'])\n",
    "idx_octodron = np.random.randint(8, size=corner_pts.shape[0])\n",
    "corner_picked = corner_pts[np.arange(corner_pts.shape[0]), idx_octodron]\n",
    "new_centers = (example['gt_bboxes_3d'][:, :3] + corner_picked) / 2\n",
    "new_dims = example['gt_bboxes_3d'][:, 3:-1] / 2"
   ]
  },
  {
   "cell_type": "code",
   "execution_count": 58,
   "metadata": {},
   "outputs": [
    {
     "ename": "ValueError",
     "evalue": "all the input array dimensions for the concatenation axis must match exactly, but along dimension 0, the array at index 0 has size 29 and the array at index 2 has size 26",
     "output_type": "error",
     "traceback": [
      "\u001b[0;31m---------------------------------------------------------------------------\u001b[0m",
      "\u001b[0;31mValueError\u001b[0m                                Traceback (most recent call last)",
      "Cell \u001b[0;32mIn[58], line 1\u001b[0m\n\u001b[0;32m----> 1\u001b[0m filter_bboxes \u001b[39m=\u001b[39m np\u001b[39m.\u001b[39;49mhstack((new_centers, new_dims, example[\u001b[39m'\u001b[39;49m\u001b[39mgt_bboxes_3d\u001b[39;49m\u001b[39m'\u001b[39;49m][:, \u001b[39m-\u001b[39;49m\u001b[39m1\u001b[39;49m:]))\n",
      "File \u001b[0;32m<__array_function__ internals>:5\u001b[0m, in \u001b[0;36mhstack\u001b[0;34m(*args, **kwargs)\u001b[0m\n",
      "File \u001b[0;32m/usr/local/lib/python3.8/dist-packages/numpy/core/shape_base.py:346\u001b[0m, in \u001b[0;36mhstack\u001b[0;34m(tup)\u001b[0m\n\u001b[1;32m    344\u001b[0m     \u001b[39mreturn\u001b[39;00m _nx\u001b[39m.\u001b[39mconcatenate(arrs, \u001b[39m0\u001b[39m)\n\u001b[1;32m    345\u001b[0m \u001b[39melse\u001b[39;00m:\n\u001b[0;32m--> 346\u001b[0m     \u001b[39mreturn\u001b[39;00m _nx\u001b[39m.\u001b[39;49mconcatenate(arrs, \u001b[39m1\u001b[39;49m)\n",
      "File \u001b[0;32m<__array_function__ internals>:5\u001b[0m, in \u001b[0;36mconcatenate\u001b[0;34m(*args, **kwargs)\u001b[0m\n",
      "\u001b[0;31mValueError\u001b[0m: all the input array dimensions for the concatenation axis must match exactly, but along dimension 0, the array at index 0 has size 29 and the array at index 2 has size 26"
     ]
    }
   ],
   "source": [
    "filter_bboxes = np.hstack((new_centers, new_dims, example['gt_bboxes_3d'][:, -1:]))"
   ]
  },
  {
   "cell_type": "code",
   "execution_count": 63,
   "metadata": {},
   "outputs": [],
   "source": [
    "def octodron_dropout(data_dict):\n",
    "    pts, gt_bboxes_3d = data_dict['pts'], data_dict['gt_bboxes_3d']\n",
    "\n",
    "    gt_bbox3d_corner_pts = boxes_to_corners_3d(gt_bboxes_3d)\n",
    "\n",
    "    # randomly pick for each gt bbox one of the 8 octodrons to dropout\n",
    "    idx_octodron = np.random.randint(8, size=gt_bbox3d_corner_pts.shape[0])\n",
    "    corners_picked = gt_bbox3d_corner_pts[np.arange(gt_bbox3d_corner_pts.shape[0]), idx_octodron]\n",
    "\n",
    "    # construct the new centroids and new h, l, w dims of the filtering 3d bboxes\n",
    "    # the yaw around z axis remains unchanged\n",
    "    new_centers = (gt_bboxes_3d[:, :3] + corners_picked) / 2\n",
    "    new_dims = gt_bboxes_3d[:, 3:-1] / 2\n",
    "    \n",
    "    filter_bboxes = np.hstack((new_centers, new_dims, gt_bboxes_3d[:, -1:]))\n",
    "    data_dict['pts'] = remove_points_in_boxes3d(pts, filter_bboxes)\n",
    "\n",
    "    return data_dict"
   ]
  },
  {
   "cell_type": "code",
   "execution_count": 80,
   "metadata": {},
   "outputs": [],
   "source": [
    "human_more_dropout = True"
   ]
  },
  {
   "cell_type": "code",
   "execution_count": 87,
   "metadata": {},
   "outputs": [
    {
     "name": "stdout",
     "output_type": "stream",
     "text": [
      "(18482, 4)\n",
      "(17702, 4)\n",
      "(17543, 4)\n"
     ]
    }
   ],
   "source": [
    "print(example['pts'].shape)\n",
    "pts, gt_bboxes_3d, gt_labels = example['pts'], example['gt_bboxes_3d'], example['gt_labels']\n",
    "\n",
    "gt_bbox3d_corner_pts = boxes_to_corners_3d(gt_bboxes_3d)\n",
    "\n",
    "# randomly pick for each gt bbox one of the 8 octodrons to dropout\n",
    "idx_octodron = np.random.randint(8, size=gt_bbox3d_corner_pts.shape[0])\n",
    "corners_picked = gt_bbox3d_corner_pts[np.arange(gt_bbox3d_corner_pts.shape[0]), idx_octodron]\n",
    "\n",
    "# construct the new centroids and new h, l, w dims of the filtering 3d bboxes\n",
    "# the yaw around z axis remains unchanged\n",
    "new_centers = (gt_bboxes_3d[:, :3] + corners_picked) / 2\n",
    "new_dims = gt_bboxes_3d[:, 3:-1] / 2\n",
    "\n",
    "filter_bboxes = np.hstack((new_centers, new_dims, gt_bboxes_3d[:, -1:]))\n",
    "\n",
    "print(remove_points_in_boxes3d(pts, filter_bboxes).shape)\n",
    "\n",
    "if human_more_dropout:\n",
    "    idx_human = np.where((gt_labels == 0) | (gt_labels == 1))\n",
    "    idx_additional_octodron = (idx_octodron[idx_human] + 1) % 8\n",
    "    gt_bboxes_human = gt_bboxes_3d[idx_human]\n",
    "    gt_bboxes_human_corner_pts = gt_bbox3d_corner_pts[idx_human]\n",
    "\n",
    "    additional_corners_picked = gt_bboxes_human_corner_pts[np.arange(gt_bboxes_human_corner_pts.shape[0]), idx_additional_octodron]\n",
    "\n",
    "    additional_new_centers = (gt_bboxes_human[:, :3] + additional_corners_picked) / 2\n",
    "    additional_new_dims = gt_bboxes_human[:, 3:-1] / 2\n",
    "    additional_filter_bboxes = np.hstack((additional_new_centers, additional_new_dims, gt_bboxes_human[:, -1:]))\n",
    "\n",
    "    filter_bboxes = np.vstack((filter_bboxes, additional_filter_bboxes))\n",
    "print(remove_points_in_boxes3d(pts, filter_bboxes).shape)\n"
   ]
  },
  {
   "cell_type": "code",
   "execution_count": 85,
   "metadata": {},
   "outputs": [
    {
     "name": "stdout",
     "output_type": "stream",
     "text": [
      "[[ 20.129112   -12.325342    -1.265914     0.7527133    0.8211418\n",
      "    1.7595896    2.0418122 ]\n",
      " [ 32.24332    -24.223549    -1.5812825    0.51810133   0.9286723\n",
      "    1.7400386   -2.20573   ]\n",
      " [  7.2893305   -3.5439627   -1.3222083    0.77226436   1.0068762\n",
      "    1.7986916    2.9814105 ]\n",
      " [  9.772701   -13.867619    -1.504134     0.8797948    1.0850803\n",
      "    1.7302631    3.039528  ]\n",
      " [ 12.386402    -5.621556    -1.2402389    0.4007954    0.32259145\n",
      "    1.5934062    0.66952163]\n",
      " [ 19.107811    -1.1583707   -1.3960189    0.6354073    0.57675433\n",
      "    1.749814     0.6806836 ]\n",
      " [  8.023365    -1.0456825   -1.5032831    0.5669789    0.7820398\n",
      "    1.8280181    2.0823584 ]\n",
      " [ 15.175438    -1.3967205   -1.1907212    0.6354073    0.57675433\n",
      "    1.749814     0.73859596]\n",
      " [ 13.705591    -9.122082    -1.6778046    0.57675433   1.8475691\n",
      "    1.7791407   -1.1178255 ]\n",
      " [ 29.905968   -26.774754    -1.0820103    0.5963054    1.6618347\n",
      "    1.6911612    2.240866  ]\n",
      " [  5.0557323  -19.456848    -1.8042651    0.4887749    1.9062221\n",
      "    1.6813856    2.3508005 ]\n",
      " [ 13.71098     -2.6167488   -1.2331896    0.5278769    1.6618347\n",
      "    1.5445287    1.8546631 ]\n",
      " [ 32.161835   -11.980717    -0.8216427    0.4301219    1.6618347\n",
      "    1.7400386   -0.89585257]\n",
      " [ 25.48504    -10.513724    -1.3332523    0.4203464    1.6618347\n",
      "    1.5836307   -0.9074855 ]]\n",
      "(14, 3)\n"
     ]
    },
    {
     "data": {
      "text/plain": [
       "array([[ 19.860786  , -12.250813  ,  -1.7058114 ,   0.37635666,\n",
       "          0.4105709 ,   0.8797948 ,   2.0418122 ],\n",
       "       [ 31.979576  , -24.190126  ,  -1.1462729 ,   0.25905067,\n",
       "          0.46433616,   0.8700193 ,  -2.20573   ],\n",
       "       [  7.1388845 ,  -3.2646723 ,  -0.87253535,   0.38613218,\n",
       "          0.5034381 ,   0.8993458 ,   2.9814105 ],\n",
       "       [ 10.019144  , -13.620171  ,  -1.9366999 ,   0.4398974 ,\n",
       "          0.54254013,   0.86513156,   3.039528  ],\n",
       "       [ 12.51502   ,  -5.622609  ,  -0.84188735,   0.2003977 ,\n",
       "          0.16129573,   0.7967031 ,   0.66952163],\n",
       "       [ 19.14052   ,  -0.9463463 ,  -1.8334725 ,   0.31770366,\n",
       "          0.28837717,   0.874907  ,   0.6806836 ],\n",
       "       [  8.263235  ,  -1.0735713 ,  -1.0462786 ,   0.28348944,\n",
       "          0.3910199 ,   0.91400903,   2.0823584 ],\n",
       "       [ 14.960905  ,  -1.3970525 ,  -1.6281745 ,   0.31770366,\n",
       "          0.28837717,   0.874907  ,   0.73859596],\n",
       "       [ 14.184005  ,  -9.049587  ,  -1.2330194 ,   0.28837717,\n",
       "          0.92378455,   0.88957036,  -1.1178255 ],\n",
       "       [ 30.139013  , -26.399895  ,  -1.5048006 ,   0.2981527 ,\n",
       "          0.83091736,   0.8455806 ,   2.240866  ],\n",
       "       [  4.631007  , -19.705132  ,  -2.2246115 ,   0.24438745,\n",
       "          0.95311105,   0.8406928 ,   2.3508005 ],\n",
       "       [ 13.34911   ,  -2.8597941 ,  -0.8470574 ,   0.26393846,\n",
       "          0.83091736,   0.77226436,   1.8546631 ],\n",
       "       [ 31.770279  , -12.156364  ,  -0.38663304,   0.21506095,\n",
       "          0.83091736,   0.8700193 ,  -0.89585257],\n",
       "       [ 25.7477    , -10.17511   ,  -1.7291601 ,   0.2101732 ,\n",
       "          0.83091736,   0.79181534,  -0.9074855 ]], dtype=float32)"
      ]
     },
     "execution_count": 85,
     "metadata": {},
     "output_type": "execute_result"
    }
   ],
   "source": [
    "idx_human = np.where((example['gt_labels'] == 0) | (example['gt_labels'] == 1))\n",
    "idx_additional_octodron = (idx_octodron[idx_human] + 1) % 8\n",
    "gt_bboxes_human = gt_bboxes_3d[idx_human]\n",
    "gt_bboxes_human_corner_pts = gt_bbox3d_corner_pts[idx_human]\n",
    "\n",
    "additional_corners_picked = gt_bboxes_human_corner_pts[np.arange(gt_bboxes_human_corner_pts.shape[0]), idx_additional_octodron]\n",
    "\n",
    "additional_new_centers = (gt_bboxes_human[:, :3] + additional_corners_picked) / 2\n",
    "additional_new_dims = gt_bboxes_human[:, 3:-1] / 2\n",
    "additional_filter_bboxes = np.hstack((additional_new_centers, additional_new_dims, gt_bboxes_human[:, -1:]))\n",
    "additional_filter_bboxes"
   ]
  },
  {
   "cell_type": "code",
   "execution_count": 61,
   "metadata": {},
   "outputs": [
    {
     "data": {
      "text/plain": [
       "array(['Car', 'Truck', 'Car', 'Car', 'Car', 'Car', 'Car', 'Car', 'Car',\n",
       "       'Car', 'Car', 'Car', 'Pedestrian', 'Pedestrian', 'Pedestrian',\n",
       "       'Pedestrian', 'Pedestrian', 'Pedestrian', 'Pedestrian',\n",
       "       'Pedestrian', 'Cyclist', 'Cyclist', 'Cyclist', 'Cyclist',\n",
       "       'Cyclist', 'Cyclist'], dtype='<U10')"
      ]
     },
     "execution_count": 61,
     "metadata": {},
     "output_type": "execute_result"
    }
   ],
   "source": [
    "example['gt_names']"
   ]
  },
  {
   "cell_type": "code",
   "execution_count": 68,
   "metadata": {},
   "outputs": [
    {
     "data": {
      "text/plain": [
       "array([ 2, -1,  2,  2,  2,  2,  2,  2,  2,  2,  2,  2,  0,  0,  0,  0,  0,\n",
       "        0,  0,  0,  1,  1,  1,  1,  1,  1])"
      ]
     },
     "execution_count": 68,
     "metadata": {},
     "output_type": "execute_result"
    }
   ],
   "source": [
    "example['gt_labels']"
   ]
  }
 ],
 "metadata": {
  "kernelspec": {
   "display_name": "pillars",
   "language": "python",
   "name": "python3"
  },
  "language_info": {
   "codemirror_mode": {
    "name": "ipython",
    "version": 3
   },
   "file_extension": ".py",
   "mimetype": "text/x-python",
   "name": "python",
   "nbconvert_exporter": "python",
   "pygments_lexer": "ipython3",
   "version": "3.8.10"
  },
  "orig_nbformat": 4
 },
 "nbformat": 4,
 "nbformat_minor": 2
}
