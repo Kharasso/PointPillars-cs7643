{
 "cells": [
  {
   "cell_type": "code",
   "execution_count": 1,
   "metadata": {},
   "outputs": [
    {
     "name": "stdout",
     "output_type": "stream",
     "text": [
      "Jupyter environment detected. Enabling Open3D WebVisualizer.\n",
      "[Open3D INFO] WebRTC GUI backend enabled.\n",
      "[Open3D INFO] WebRTCWindowSystem: HTTP handshake server disabled.\n"
     ]
    }
   ],
   "source": [
    "from dataset import Kitti, get_dataloader\n",
    "import pandas as pd\n",
    "import numpy as np"
   ]
  },
  {
   "cell_type": "code",
   "execution_count": 47,
   "metadata": {},
   "outputs": [],
   "source": [
    "from pcdet.utils.box_utils import boxes_to_corners_3d, remove_points_in_boxes3d, remove_points_outside_boxes3d"
   ]
  },
  {
   "cell_type": "code",
   "execution_count": 10,
   "metadata": {},
   "outputs": [],
   "source": [
    "kitti_data = Kitti(data_root='data/kitti', \n",
    "                    split='train')\n",
    "example = kitti_data.__getitem__(9)\n",
    "example['pts'].shape\n",
    "box = example['gt_bboxes_3d'][0]"
   ]
  },
  {
   "cell_type": "code",
   "execution_count": 11,
   "metadata": {},
   "outputs": [],
   "source": [
    "sample1 = kitti_data.__getitem__(23)\n",
    "sample2 = kitti_data.__getitem__(2323)"
   ]
  },
  {
   "cell_type": "code",
   "execution_count": 110,
   "metadata": {},
   "outputs": [],
   "source": [
    "def rotation_3d_in_axis(pts, theta, axis=0):\n",
    "    if len(pts.shape) == 2:\n",
    "        pts = np.expand_dims(pts, axis=0)\n",
    "        \n",
    "    rot_sin = np.sin(theta)\n",
    "    rot_cos = np.cos(theta)\n",
    "    ones = np.ones_like(rot_cos)\n",
    "    zeros = np.zeros_like(rot_cos)\n",
    "\n",
    "    if axis == 1:\n",
    "        rot_mat_T = np.stack([[rot_cos, zeros, -rot_sin], [zeros, ones, zeros],\n",
    "                              [rot_sin, zeros, rot_cos]])\n",
    "    elif axis == 2 or axis == -1:\n",
    "        rot_mat_T = np.stack([[rot_cos, -rot_sin, zeros],\n",
    "                              [rot_sin, rot_cos, zeros], [zeros, zeros, ones]])\n",
    "    elif axis == 0:\n",
    "        rot_mat_T = np.stack([[zeros, rot_cos, -rot_sin],\n",
    "                              [zeros, rot_sin, rot_cos], [ones, zeros, zeros]])\n",
    "    else:\n",
    "        raise ValueError(\"axis should in range\")\n",
    "\n",
    "    return np.einsum('aij,jka->aik', pts, rot_mat_T)"
   ]
  },
  {
   "cell_type": "code",
   "execution_count": 113,
   "metadata": {},
   "outputs": [],
   "source": [
    "def swap_octodrons(data_dict, distance_limit=100, p=1.0):\n",
    "\n",
    "    pts, gt_bboxes_3d, gt_labels = data_dict['pts'], data_dict['gt_bboxes_3d'], data_dict['gt_labels']\n",
    "    gt_box_corners = boxes_to_corners_3d(gt_bboxes_3d)\n",
    "\n",
    "    for label in range(3):\n",
    "        label_idx = list(np.where(gt_labels == label)[0])\n",
    "\n",
    "        for i in label_idx:\n",
    "            # only apply swap when x is smaller than the distance limit\n",
    "            if gt_bboxes_3d[i][0] > distance_limit:\n",
    "                continue\n",
    "\n",
    "            # randomly apply swap with a probability of p:\n",
    "            if np.random.rand(1) > p:\n",
    "                continue\n",
    "\n",
    "            # remove i from label idx... only swap it once and it does not swap with it self\n",
    "            label_idx.remove(i)\n",
    "\n",
    "            # corner points of the current box\n",
    "            cur_box_corner_pts = gt_box_corners[i]\n",
    "\n",
    "            # find non-empty partition idx for both gt\n",
    "            chosen_octodron_idx = -1 \n",
    "\n",
    "            # vars for further processing. init as empty\n",
    "            cur_oct = None\n",
    "            target_pts = None\n",
    "            target_gt_idx = -1\n",
    "\n",
    "            while len(label_idx) > 0:\n",
    "                target_gt_idx = np.random.choice(label_idx, 1, replace=False)[0]\n",
    "                target_box_corner_pts = gt_box_corners[target_gt_idx]\n",
    "\n",
    "                for idx_octodron in range(8):\n",
    "                    target_oct_centers = (gt_bboxes_3d[target_gt_idx][:3] + target_box_corner_pts[idx_octodron]) / 2\n",
    "                    target_oct_dims = gt_bboxes_3d[target_gt_idx][3:-1] / 2\n",
    "\n",
    "                    target_oct = np.hstack((target_oct_centers, target_oct_dims, gt_bboxes_3d[target_gt_idx][-1]))\n",
    "                    target_pts = remove_points_outside_boxes3d(pts, target_oct[np.newaxis, :])\n",
    "\n",
    "                    if len(target_pts) == 0:\n",
    "                        continue\n",
    "                    \n",
    "                    # print(gt_bboxes_3d[i][:3])\n",
    "                    cur_oct_centers = (gt_bboxes_3d[i][:3] + cur_box_corner_pts[idx_octodron]) / 2\n",
    "                    cur_oct_dims = gt_bboxes_3d[i][3:-1] / 2\n",
    "\n",
    "                    cur_oct = np.hstack((cur_oct_centers, cur_oct_dims, gt_bboxes_3d[i][-1]))\n",
    "                    cur_pts = remove_points_outside_boxes3d(pts, cur_oct[np.newaxis, :])\n",
    "\n",
    "                    if len(cur_pts) > 0:\n",
    "                        chosen_octodron_idx = idx_octodron\n",
    "                        break\n",
    "                \n",
    "                label_idx.remove(target_gt_idx)\n",
    "            \n",
    "            if chosen_octodron_idx == -1:\n",
    "                continue\n",
    "\n",
    "            target_box_center, target_box_dim, target_box_heading = gt_bboxes_3d[target_gt_idx][:3], gt_bboxes_3d[target_gt_idx][3:-1], gt_bboxes_3d[target_gt_idx][6:7]\n",
    "            # transform target octodron points\n",
    "            target_pts[:, :3] -= target_box_center\n",
    "            target_pts[:, :3] = rotation_3d_in_axis(target_pts[:, :3], -target_box_heading, axis=2)\n",
    "            target_pts[:, :3] /= target_box_dim\n",
    "\n",
    "            # restore target points to the current box\n",
    "            cur_box_center, cur_box_dim, cur_box_heading = gt_bboxes_3d[i][:3], gt_bboxes_3d[i][3:-1], gt_bboxes_3d[i][6:7]\n",
    "            target_pts[:, :3] *= cur_box_dim\n",
    "            target_pts[:, :3] = rotation_3d_in_axis(target_pts[:, :3], cur_box_heading, axis=2)\n",
    "            target_pts[:, :3] += cur_box_center\n",
    "\n",
    "            # swap\n",
    "            pts = remove_points_in_boxes3d(pts, cur_oct[np.newaxis, :])\n",
    "            pts = np.vstack((pts, target_pts))\n",
    "\n",
    "    data_dict['pts'] = pts\n",
    "\n",
    "    return data_dict"
   ]
  },
  {
   "cell_type": "code",
   "execution_count": 114,
   "metadata": {},
   "outputs": [
    {
     "data": {
      "text/plain": [
       "array([ 3.4467587,  6.026842 , -1.5149769], dtype=float32)"
      ]
     },
     "execution_count": 114,
     "metadata": {},
     "output_type": "execute_result"
    }
   ],
   "source": [
    "pts, gt_bboxes_3d, gt_labels = sample1['pts'], sample1['gt_bboxes_3d'], sample1['gt_labels']\n",
    "gt_box_corners = boxes_to_corners_3d(gt_bboxes_3d)\n",
    "\n",
    "target_gt_idx = 17\n",
    "idx_octodron = 3\n",
    "\n",
    "target_box_corner_pts = gt_box_corners[target_gt_idx]\n",
    "(gt_bboxes_3d[target_gt_idx][:3] + target_box_corner_pts[idx_octodron]) / 2"
   ]
  },
  {
   "cell_type": "code",
   "execution_count": 129,
   "metadata": {},
   "outputs": [
    {
     "name": "stdout",
     "output_type": "stream",
     "text": [
      "(38288, 4)\n"
     ]
    },
    {
     "data": {
      "text/plain": [
       "(38287, 4)"
      ]
     },
     "execution_count": 129,
     "metadata": {},
     "output_type": "execute_result"
    }
   ],
   "source": [
    "print(sample1['pts'].shape)\n",
    "swap_octodrons(sample1)['pts'].shape"
   ]
  },
  {
   "cell_type": "code",
   "execution_count": 44,
   "metadata": {},
   "outputs": [],
   "source": [
    "gt_bboxes_3d = sample1['gt_bboxes_3d']\n",
    "pts = sample1['pts']\n",
    "gt_box_corners = boxes_to_corners_3d(gt_bboxes_3d)\n",
    "target_gt_idx = 23\n",
    "target_box_corner_pts = gt_box_corners[target_gt_idx]\n",
    "target_oct_centers = (gt_bboxes_3d[target_gt_idx][:3] + target_box_corner_pts[7]) / 2\n",
    "target_oct_dims = gt_bboxes_3d[target_gt_idx][3:-1] / 2\n",
    "target_oct = np.hstack((target_oct_centers, target_oct_dims, gt_bboxes_3d[target_gt_idx][-1]))\n",
    "oct_pts = remove_points_outside_boxes3d(pts, target_oct[np.newaxis, :])"
   ]
  },
  {
   "cell_type": "code",
   "execution_count": 52,
   "metadata": {},
   "outputs": [
    {
     "name": "stdout",
     "output_type": "stream",
     "text": [
      "(38259, 4)\n",
      "(5, 4)\n"
     ]
    },
    {
     "data": {
      "text/plain": [
       "(38264, 4)"
      ]
     },
     "execution_count": 52,
     "metadata": {},
     "output_type": "execute_result"
    }
   ],
   "source": [
    "print(pts.shape)\n",
    "print(oct_pts.shape)\n",
    "np.vstack((oct_pts, pts)).shape"
   ]
  },
  {
   "cell_type": "code",
   "execution_count": 23,
   "metadata": {},
   "outputs": [
    {
     "data": {
      "text/plain": [
       "(38259, 4)"
      ]
     },
     "execution_count": 23,
     "metadata": {},
     "output_type": "execute_result"
    }
   ],
   "source": [
    "pts.shape"
   ]
  },
  {
   "cell_type": "code",
   "execution_count": 25,
   "metadata": {},
   "outputs": [
    {
     "data": {
      "text/plain": [
       "array([[ -1.3623054, -33.154373 ,  -2.4427369],\n",
       "       [  2.8396785, -32.234016 ,  -2.4427369],\n",
       "       [  3.1669166, -33.728058 ,  -2.4427369],\n",
       "       [ -1.0350673, -34.648415 ,  -2.4427369],\n",
       "       [ -1.3623054, -33.154373 ,  -1.1331398],\n",
       "       [  2.8396785, -32.234016 ,  -1.1331398],\n",
       "       [  3.1669166, -33.728058 ,  -1.1331398],\n",
       "       [ -1.0350673, -34.648415 ,  -1.1331398]], dtype=float32)"
      ]
     },
     "execution_count": 25,
     "metadata": {},
     "output_type": "execute_result"
    }
   ],
   "source": [
    "target_box_corner_pts"
   ]
  },
  {
   "cell_type": "code",
   "execution_count": 14,
   "metadata": {},
   "outputs": [
    {
     "data": {
      "text/plain": [
       "array([ -0.22999987, -33.297794  ,  -2.1153376 ], dtype=float32)"
      ]
     },
     "execution_count": 14,
     "metadata": {},
     "output_type": "execute_result"
    }
   ],
   "source": [
    "target_oct_centers"
   ]
  }
 ],
 "metadata": {
  "kernelspec": {
   "display_name": "pillars",
   "language": "python",
   "name": "python3"
  },
  "language_info": {
   "codemirror_mode": {
    "name": "ipython",
    "version": 3
   },
   "file_extension": ".py",
   "mimetype": "text/x-python",
   "name": "python",
   "nbconvert_exporter": "python",
   "pygments_lexer": "ipython3",
   "version": "3.8.10"
  },
  "orig_nbformat": 4
 },
 "nbformat": 4,
 "nbformat_minor": 2
}
